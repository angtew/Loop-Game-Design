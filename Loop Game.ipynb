{
 "cells": [
  {
   "cell_type": "code",
   "execution_count": 1,
   "id": "a11aea73-4311-4fef-9dc5-002e99675043",
   "metadata": {},
   "outputs": [
    {
     "name": "stdout",
     "output_type": "stream",
     "text": [
      "\n",
      "You are Prince Philip. You need to help Princess Aurora , who is cursed to be asleep in the tower that is guarded by the dragon. Instead of killing it , your plan is to give the dragon back her dragon egg to get through her. The only problem is - the egg was sent to China as a diplomatic present.\n",
      "You wrote a letter to Li Shang , a captain in the Chinese army and Hua Mulan , a member of the Emperor's council. They agreed to give it back but you have to travel to China to take it.\n",
      "===================\n",
      "\n",
      "Now you have to travel to China to get the dragon egg.\n",
      "\n",
      "\n",
      "You are at your castle, the journy to save the princess is about to begin.\n",
      "You can go to: village, desert.\n"
     ]
    },
    {
     "name": "stdin",
     "output_type": "stream",
     "text": [
      "Where do you want to go next?  desert\n"
     ]
    },
    {
     "name": "stdout",
     "output_type": "stream",
     "text": [
      "There is a desert strom with the face on it! It says , 'you need to pay to get through'. \n",
      "\n",
      "It is the middle of nowhere. The only thing you could see is endless desert\n",
      "You can go to: castle.\n"
     ]
    },
    {
     "name": "stdin",
     "output_type": "stream",
     "text": [
      "Where do you want to go next?  castle\n"
     ]
    },
    {
     "name": "stdout",
     "output_type": "stream",
     "text": [
      "\n",
      "You are at your castle, the journy to save the princess is about to begin.\n",
      "You can go to: village, desert.\n"
     ]
    },
    {
     "name": "stdin",
     "output_type": "stream",
     "text": [
      "Where do you want to go next?  village\n"
     ]
    },
    {
     "name": "stdout",
     "output_type": "stream",
     "text": [
      "\n",
      "You meet Prince Charming. He is looking for the girl who danced with him last night. After your help , he could find her.It's Cinderella! Her fairy godmother told you a secret 'Only the kisses from true loves can wake the princesses up' \n",
      "You can go to: desert, forest, castle.\n"
     ]
    },
    {
     "name": "stdin",
     "output_type": "stream",
     "text": [
      "Where do you want to go next?  forest\n"
     ]
    },
    {
     "name": "stdout",
     "output_type": "stream",
     "text": [
      "There are other sleeping beauty , the prince and 7 dwarfs there. You tell that prince the secret you got from the fairy godmother. The prince kisses and wake her up! They appreciate your help and give you the biggest diamond you have ever seen!\n",
      "\n",
      "Another sleeping beauty is there. Her lips are as red as rose. Her hair is as black as ebony. Her skin is as white as snow\n",
      "You can go to: village, desert.\n"
     ]
    },
    {
     "name": "stdin",
     "output_type": "stream",
     "text": [
      "Where do you want to go next?  desert\n"
     ]
    },
    {
     "name": "stdout",
     "output_type": "stream",
     "text": [
      "You are facing the storm. You throw the diamond into the eye of it. It is suddenly disappeared. Additionally , there is a flying carpet offer you a ride to wherever you want!\n",
      "\n",
      "It is the middle of nowhere. The only thing you could see is endless desert\n",
      "You can go to: castle, china.\n"
     ]
    },
    {
     "name": "stdin",
     "output_type": "stream",
     "text": [
      "Where do you want to go next?  china\n"
     ]
    },
    {
     "name": "stdout",
     "output_type": "stream",
     "text": [
      "\n",
      "You finally reach China. Now you can go get the dragon egg from Li Chang and Mulan!\n",
      "You can go to: dragon egg.\n"
     ]
    },
    {
     "name": "stdin",
     "output_type": "stream",
     "text": [
      "Where do you want to go next?  dragon egg\n"
     ]
    },
    {
     "name": "stdout",
     "output_type": "stream",
     "text": [
      "\n",
      "You meet Li Chang , Mulan and the emperor of China. They understand the situation and hand you the dragon egg.\n",
      "\n",
      "Your journey has been successful. Now you can go to save the sleeping beauty!\n",
      "\n"
     ]
    }
   ],
   "source": [
    "# Prince Philip - castle-village-forest-desert-china\n",
    "descriptions = {\n",
    "    \"castle\": \"You are at your castle, the journy to save the princess is about to begin.\",\n",
    "    \"village\": \"You meet Prince Charming. He is looking for the girl who danced with him last night. After your help , he could find her.It's Cinderella! Her fairy godmother told you a secret 'Only the kisses from true loves can wake the princesses up' \",\n",
    "    \"desert\": \"It is the middle of nowhere. The only thing you could see is endless desert\",\n",
    "    \"forest\": \"Another sleeping beauty is there. Her lips are as red as rose. Her hair is as black as ebony. Her skin is as white as snow\",\n",
    "    \"china\": \"You finally reach China. Now you can go get the dragon egg from Li Chang and Mulan!\"\n",
    "}\n",
    "\n",
    "paths = {\n",
    "    \"castle\": [\"village\", \"desert\"],\n",
    "    \"village\": [\"desert\", \"forest\", \"castle\"],\n",
    "    \"forest\": [\"village\", \"desert\"],\n",
    "    \"desert\": [\"china\", \"castle\"],\n",
    "    \"china\": [\"dragon egg\"]\n",
    "}\n",
    "\n",
    "current_loc = \"castle\"\n",
    "diamond = False\n",
    "\n",
    "def display_location(loc):\n",
    "    \"\"\"Display the description and available paths of the current location.\"\"\"\n",
    "    print(f\"\\n{descriptions[loc]}\")\n",
    "    print(f\"You can go to: {', '.join(paths[loc])}.\")\n",
    "\n",
    "def handle_forest():\n",
    "    \"\"\"Handle the special condition at the beekeeper location.\"\"\"\n",
    "    global diamond\n",
    "    if not diamond:\n",
    "        print(\"There are other sleeping beauty , the prince and 7 dwarfs there. You tell that prince the secret you got from the fairy godmother. The prince kisses and wakes her up! They appreciate your help and give you the biggest diamond you have ever seen!\")\n",
    "        diamond = True\n",
    "    else:\n",
    "        print(\"You already have what you need. use it wisely.\")\n",
    "\n",
    "def handle_desert():\n",
    "    \"\"\"Handle special conditions in the desert.\"\"\"\n",
    "    global paths\n",
    "    if not diamond and \"china\" in paths[\"desert\"]:\n",
    "        print(\"There is a desert strom with the face on it! It says , 'you need to pay to get through'. \")\n",
    "        paths[\"desert\"].remove(\"china\")\n",
    "    elif diamond and \"china\" not in paths[\"desert\"]:\n",
    "        paths[\"desert\"].append(\"china\")\n",
    "        print(\"You are facing the storm. You throw the diamond into the eye of it. It is suddenly disappeared. Additionally , there is a flying carpet with a man and a ginie on it. They offer you a ride to wherever you want!\")\n",
    "\n",
    "def get_next_location():\n",
    "    \"\"\"Prompt the player to choose their next destination.\"\"\"\n",
    "    while True:\n",
    "        next_loc = input(\"Where do you want to go next? \").lower()\n",
    "        if next_loc in paths[current_loc]:\n",
    "            return next_loc\n",
    "        else:\n",
    "            print(\"You can't go that way. Please find some help.\")\n",
    "\n",
    "print(\"\"\"\n",
    "You are Prince Philip. You need to help Princess Aurora , who is cursed to be asleep in the tower that is guarded by the dragon. Instead of killing it , your plan is to give the dragon back her dragon egg to get through her. The only problem is - the egg was sent to China as a diplomatic present.\n",
    "You wrote a letter to Li Shang , a captain in the Chinese army and Hua Mulan , a member of the Emperor's council. They agreed to give it back but you have to travel to China to take it.\n",
    "===================\n",
    "\n",
    "Now you have to travel to China to get the dragon egg.\n",
    "\"\"\")\n",
    "\n",
    "while current_loc != \"dragon egg\": \n",
    "    display_location(current_loc)\n",
    "    \n",
    "    next_loc = get_next_location()\n",
    "\n",
    "    current_loc = next_loc\n",
    "\n",
    "    if current_loc == \"forest\":\n",
    "        handle_forest()\n",
    "    elif current_loc == \"desert\":\n",
    "        handle_desert()\n",
    "\n",
    "print(\"\"\"\n",
    "You meet Li Chang , Mulan and the emperor of China. They understand the situation and hand you the dragon egg.\n",
    "\n",
    "Your journey has been successful. Now you can go to save the sleeping beauty!\n",
    "\"\"\")\n"
   ]
  }
 ],
 "metadata": {
  "kernelspec": {
   "display_name": "Python 3 (ipykernel)",
   "language": "python",
   "name": "python3"
  },
  "language_info": {
   "codemirror_mode": {
    "name": "ipython",
    "version": 3
   },
   "file_extension": ".py",
   "mimetype": "text/x-python",
   "name": "python",
   "nbconvert_exporter": "python",
   "pygments_lexer": "ipython3",
   "version": "3.11.7"
  }
 },
 "nbformat": 4,
 "nbformat_minor": 5
}
